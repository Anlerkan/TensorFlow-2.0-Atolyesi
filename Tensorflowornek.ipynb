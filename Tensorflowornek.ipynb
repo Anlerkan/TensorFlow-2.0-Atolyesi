{
  "nbformat": 4,
  "nbformat_minor": 0,
  "metadata": {
    "colab": {
      "name": "Tensorflowornek.ipynb",
      "provenance": [],
      "collapsed_sections": [],
      "include_colab_link": true
    },
    "kernelspec": {
      "name": "python3",
      "display_name": "Python 3"
    },
    "accelerator": "GPU"
  },
  "cells": [
    {
      "cell_type": "markdown",
      "metadata": {
        "id": "view-in-github",
        "colab_type": "text"
      },
      "source": [
        "<a href=\"https://colab.research.google.com/github/Anlerkan/TensorFlow-2.0-Atolyesi/blob/master/Tensorflowornek.ipynb\" target=\"_parent\"><img src=\"https://colab.research.google.com/assets/colab-badge.svg\" alt=\"Open In Colab\"/></a>"
      ]
    },
    {
      "cell_type": "code",
      "metadata": {
        "id": "GICBMHlAA3_B",
        "colab_type": "code",
        "outputId": "28238f51-37b5-40d8-f8d6-f392b3c3f3b8",
        "colab": {
          "base_uri": "https://localhost:8080/",
          "height": 122
        }
      },
      "source": [
        "%tensorflow_version 2.x\n",
        "import tensorflow as tf\n",
        "tf.test.is_gpu_available()"
      ],
      "execution_count": 0,
      "outputs": [
        {
          "output_type": "stream",
          "text": [
            "TensorFlow 2.x selected.\n",
            "WARNING:tensorflow:From <ipython-input-1-7d12f460bca2>:3: is_gpu_available (from tensorflow.python.framework.test_util) is deprecated and will be removed in a future version.\n",
            "Instructions for updating:\n",
            "Use `tf.config.list_physical_devices('GPU')` instead.\n"
          ],
          "name": "stdout"
        },
        {
          "output_type": "execute_result",
          "data": {
            "text/plain": [
              "True"
            ]
          },
          "metadata": {
            "tags": []
          },
          "execution_count": 1
        }
      ]
    },
    {
      "cell_type": "code",
      "metadata": {
        "id": "qmglwgNyDswF",
        "colab_type": "code",
        "colab": {}
      },
      "source": [
        "weight_decay = 1e-4\n",
        "batch_size = 32\n",
        "input_size = 160\n",
        "num_classes = 2\n",
        "num_features = 32\n",
        "num_epochs = 20"
      ],
      "execution_count": 0,
      "outputs": []
    },
    {
      "cell_type": "code",
      "metadata": {
        "id": "IFODMubGGcRm",
        "colab_type": "code",
        "colab": {}
      },
      "source": [
        "def vgg_block(x, filters, layers):\n",
        "  for i in range(layers):\n",
        "    x=tf.keras.layers.Conv2D(filters,kernel_size=(3,3),padding='same',kernel_initializer='he_normal',kernel_regularizer=tf.keras.regularizers.l2(weight_decay))(x)\n",
        "    x=tf.keras.layers.BatchNormalization()(x)\n",
        "    x=tf.keras.layers.Activation('relu')(x)\n",
        "  return x"
      ],
      "execution_count": 0,
      "outputs": []
    },
    {
      "cell_type": "code",
      "metadata": {
        "id": "0lcXJPLBHhth",
        "colab_type": "code",
        "colab": {}
      },
      "source": [
        "def vgg8():\n",
        "  input=tf.keras.layers.Input(shape=(input_size,input_size,3))\n",
        "  x=vgg_block(input, 16,2)\n",
        "  x=tf.keras.layers.MaxPool2D(pool_size=(2,2))(x)\n",
        "  x=vgg_block(x,32,2)\n",
        "  x=tf.keras.layers.MaxPool2D(pool_size=(2,2))(x)\n",
        "  x=vgg_block(x,64,2)\n",
        "  x=tf.keras.layers.MaxPool2D(pool_size=(2,2))(x)\n",
        "  x=tf.keras.layers.Dropout(0.4)(x)\n",
        "  x=tf.keras.layers.Flatten()(x)\n",
        "  x=tf.keras.layers.Dense(num_features,kernel_initializer='he_normal',kernel_regularizer=tf.keras.regularizers.l2(weight_decay))(x)\n",
        "  x=tf.keras.layers.BatchNormalization()(x)\n",
        "  output=tf.keras.layers.Dense(num_classes,activation='softmax',kernel_regularizer=tf.keras.regularizers.l2(weight_decay))(x)\n",
        "  model=tf.keras.models.Model(input,output)\n",
        "  model.summary()\n",
        "  return model "
      ],
      "execution_count": 0,
      "outputs": []
    },
    {
      "cell_type": "code",
      "metadata": {
        "id": "9feoXI6KM0x1",
        "colab_type": "code",
        "outputId": "2345fc5b-ba63-4d25-cdb6-94b464c19b2a",
        "colab": {
          "base_uri": "https://localhost:8080/",
          "height": 1000
        }
      },
      "source": [
        "model=vgg8()\n"
      ],
      "execution_count": 0,
      "outputs": [
        {
          "output_type": "stream",
          "text": [
            "Model: \"model\"\n",
            "_________________________________________________________________\n",
            "Layer (type)                 Output Shape              Param #   \n",
            "=================================================================\n",
            "input_1 (InputLayer)         [(None, 160, 160, 3)]     0         \n",
            "_________________________________________________________________\n",
            "conv2d (Conv2D)              (None, 160, 160, 16)      448       \n",
            "_________________________________________________________________\n",
            "batch_normalization (BatchNo (None, 160, 160, 16)      64        \n",
            "_________________________________________________________________\n",
            "activation (Activation)      (None, 160, 160, 16)      0         \n",
            "_________________________________________________________________\n",
            "conv2d_1 (Conv2D)            (None, 160, 160, 16)      2320      \n",
            "_________________________________________________________________\n",
            "batch_normalization_1 (Batch (None, 160, 160, 16)      64        \n",
            "_________________________________________________________________\n",
            "activation_1 (Activation)    (None, 160, 160, 16)      0         \n",
            "_________________________________________________________________\n",
            "max_pooling2d (MaxPooling2D) (None, 80, 80, 16)        0         \n",
            "_________________________________________________________________\n",
            "conv2d_2 (Conv2D)            (None, 80, 80, 32)        4640      \n",
            "_________________________________________________________________\n",
            "batch_normalization_2 (Batch (None, 80, 80, 32)        128       \n",
            "_________________________________________________________________\n",
            "activation_2 (Activation)    (None, 80, 80, 32)        0         \n",
            "_________________________________________________________________\n",
            "conv2d_3 (Conv2D)            (None, 80, 80, 32)        9248      \n",
            "_________________________________________________________________\n",
            "batch_normalization_3 (Batch (None, 80, 80, 32)        128       \n",
            "_________________________________________________________________\n",
            "activation_3 (Activation)    (None, 80, 80, 32)        0         \n",
            "_________________________________________________________________\n",
            "max_pooling2d_1 (MaxPooling2 (None, 40, 40, 32)        0         \n",
            "_________________________________________________________________\n",
            "conv2d_4 (Conv2D)            (None, 40, 40, 64)        18496     \n",
            "_________________________________________________________________\n",
            "batch_normalization_4 (Batch (None, 40, 40, 64)        256       \n",
            "_________________________________________________________________\n",
            "activation_4 (Activation)    (None, 40, 40, 64)        0         \n",
            "_________________________________________________________________\n",
            "conv2d_5 (Conv2D)            (None, 40, 40, 64)        36928     \n",
            "_________________________________________________________________\n",
            "batch_normalization_5 (Batch (None, 40, 40, 64)        256       \n",
            "_________________________________________________________________\n",
            "activation_5 (Activation)    (None, 40, 40, 64)        0         \n",
            "_________________________________________________________________\n",
            "max_pooling2d_2 (MaxPooling2 (None, 20, 20, 64)        0         \n",
            "_________________________________________________________________\n",
            "dropout (Dropout)            (None, 20, 20, 64)        0         \n",
            "_________________________________________________________________\n",
            "flatten (Flatten)            (None, 25600)             0         \n",
            "_________________________________________________________________\n",
            "dense (Dense)                (None, 32)                819232    \n",
            "_________________________________________________________________\n",
            "batch_normalization_6 (Batch (None, 32)                128       \n",
            "_________________________________________________________________\n",
            "dense_1 (Dense)              (None, 2)                 66        \n",
            "=================================================================\n",
            "Total params: 892,402\n",
            "Trainable params: 891,890\n",
            "Non-trainable params: 512\n",
            "_________________________________________________________________\n"
          ],
          "name": "stdout"
        }
      ]
    },
    {
      "cell_type": "code",
      "metadata": {
        "id": "PJl4jtXpNNYn",
        "colab_type": "code",
        "outputId": "3259526e-a55c-4481-dc9d-423bef029729",
        "colab": {
          "base_uri": "https://localhost:8080/",
          "height": 34
        }
      },
      "source": [
        "url='https://bit.ly/33n6FcG'\n",
        "path_to_zip = tf.keras.utils.get_file('cats_and_dogs_filtered.zip',origin=url,extract=True)\n",
        "path_to_zip\n"
      ],
      "execution_count": 0,
      "outputs": [
        {
          "output_type": "execute_result",
          "data": {
            "text/plain": [
              "'/root/.keras/datasets/cats_and_dogs_filtered.zip'"
            ]
          },
          "metadata": {
            "tags": []
          },
          "execution_count": 11
        }
      ]
    },
    {
      "cell_type": "code",
      "metadata": {
        "id": "PxUH5zifP_KN",
        "colab_type": "code",
        "outputId": "99fe2a78-8955-4cba-9f6c-5b36a47aeec1",
        "colab": {
          "base_uri": "https://localhost:8080/",
          "height": 34
        }
      },
      "source": [
        "import os\n",
        "dataset_dir=os.path.join(os.path.dirname(path_to_zip),'cats_and_dogs_filtered')\n",
        "dataset_dir"
      ],
      "execution_count": 0,
      "outputs": [
        {
          "output_type": "execute_result",
          "data": {
            "text/plain": [
              "'/root/.keras/datasets/cats_and_dogs_filtered'"
            ]
          },
          "metadata": {
            "tags": []
          },
          "execution_count": 16
        }
      ]
    },
    {
      "cell_type": "code",
      "metadata": {
        "id": "vbKD3rG4RWvS",
        "colab_type": "code",
        "outputId": "9af8f515-cf20-4d0a-d60c-18865b358a5c",
        "colab": {
          "base_uri": "https://localhost:8080/",
          "height": 34
        }
      },
      "source": [
        "!ls $dataset_dir"
      ],
      "execution_count": 0,
      "outputs": [
        {
          "output_type": "stream",
          "text": [
            "train  validation  vectorize.py\n"
          ],
          "name": "stdout"
        }
      ]
    },
    {
      "cell_type": "code",
      "metadata": {
        "id": "GJBcY_bxR0EE",
        "colab_type": "code",
        "outputId": "c0b269cb-ee2b-47af-c7f6-c7df1c69a422",
        "colab": {
          "base_uri": "https://localhost:8080/",
          "height": 34
        }
      },
      "source": [
        "train_dir =os.path.join(dataset_dir,'train')\n",
        "train_dir"
      ],
      "execution_count": 0,
      "outputs": [
        {
          "output_type": "execute_result",
          "data": {
            "text/plain": [
              "'/root/.keras/datasets/cats_and_dogs_filtered/train'"
            ]
          },
          "metadata": {
            "tags": []
          },
          "execution_count": 18
        }
      ]
    },
    {
      "cell_type": "code",
      "metadata": {
        "id": "QoaE_k2mR0R4",
        "colab_type": "code",
        "outputId": "7bf002fd-2e83-4f41-dabe-dc3778733994",
        "colab": {
          "base_uri": "https://localhost:8080/",
          "height": 34
        }
      },
      "source": [
        "validation_dir=os.path.join(dataset_dir,'validation')\n",
        "validation_dir"
      ],
      "execution_count": 0,
      "outputs": [
        {
          "output_type": "execute_result",
          "data": {
            "text/plain": [
              "'/root/.keras/datasets/cats_and_dogs_filtered/validation'"
            ]
          },
          "metadata": {
            "tags": []
          },
          "execution_count": 19
        }
      ]
    },
    {
      "cell_type": "code",
      "metadata": {
        "id": "kEmZdaMCR0Ul",
        "colab_type": "code",
        "colab": {}
      },
      "source": [
        "train_aug=tf.keras.preprocessing.image.ImageDataGenerator(\n",
        "    rescale=1.0/255.0,\n",
        "    rotation_range=20,\n",
        "    width_shift_range=0.2,\n",
        "    height_shift_range=0.2,\n",
        "    horizontal_flip=True,\n",
        "    zoom_range=0.2\n",
        "    )    "
      ],
      "execution_count": 0,
      "outputs": []
    },
    {
      "cell_type": "code",
      "metadata": {
        "id": "OB7yZSNyUHrc",
        "colab_type": "code",
        "outputId": "71a73b13-d468-4e7d-ea3e-e3a09ac10d73",
        "colab": {
          "base_uri": "https://localhost:8080/",
          "height": 34
        }
      },
      "source": [
        "train_gen=train_aug.flow_from_directory(train_dir,\n",
        "                                        target_size=(input_size,input_size),\n",
        "                                        class_mode='categorical',\n",
        "                                        shuffle=True)"
      ],
      "execution_count": 0,
      "outputs": [
        {
          "output_type": "stream",
          "text": [
            "Found 2000 images belonging to 2 classes.\n"
          ],
          "name": "stdout"
        }
      ]
    },
    {
      "cell_type": "code",
      "metadata": {
        "id": "ktqW_jDgUHog",
        "colab_type": "code",
        "colab": {}
      },
      "source": [
        "validatiob_aug=tf.keras.preprocessing.image.ImageDataGenerator(\n",
        "       rescale=1.0/255.0\n",
        ")"
      ],
      "execution_count": 0,
      "outputs": []
    },
    {
      "cell_type": "code",
      "metadata": {
        "id": "fPr6SJHyUHlv",
        "colab_type": "code",
        "outputId": "05d7e7c4-b0f2-4d27-f72b-b45073cd578e",
        "colab": {
          "base_uri": "https://localhost:8080/",
          "height": 34
        }
      },
      "source": [
        "validation_gen=validatiob_aug.flow_from_directory(validation_dir,\n",
        "                                                  target_size=(input_size,input_size),\n",
        "                                                  class_mode='categorical')"
      ],
      "execution_count": 0,
      "outputs": [
        {
          "output_type": "stream",
          "text": [
            "Found 1000 images belonging to 2 classes.\n"
          ],
          "name": "stdout"
        }
      ]
    },
    {
      "cell_type": "code",
      "metadata": {
        "id": "53tA3UH7UHeb",
        "colab_type": "code",
        "colab": {}
      },
      "source": [
        "model.compile(optimizer='sgd',loss='categorical_crossentropy',metrics=['accuracy'])"
      ],
      "execution_count": 0,
      "outputs": []
    },
    {
      "cell_type": "code",
      "metadata": {
        "id": "Xoxjv8nYUHR9",
        "colab_type": "code",
        "outputId": "23676dec-a771-465e-94f9-2faa04bb195a",
        "colab": {
          "base_uri": "https://localhost:8080/",
          "height": 867
        }
      },
      "source": [
        "model.fit_generator(train_gen,\n",
        "                    epochs=num_epochs,\n",
        "                    steps_per_epoch=2000 // batch_size,\n",
        "                    validation_data=validation_gen,\n",
        "                    validation_steps=1000//batch_size)"
      ],
      "execution_count": 0,
      "outputs": [
        {
          "output_type": "stream",
          "text": [
            "WARNING:tensorflow:sample_weight modes were coerced from\n",
            "  ...\n",
            "    to  \n",
            "  ['...']\n",
            "WARNING:tensorflow:sample_weight modes were coerced from\n",
            "  ...\n",
            "    to  \n",
            "  ['...']\n",
            "Train for 62 steps, validate for 31 steps\n",
            "Epoch 1/20\n",
            "62/62 [==============================] - 17s 277ms/step - loss: 0.5693 - accuracy: 0.7424 - val_loss: 0.6053 - val_accuracy: 0.7208\n",
            "Epoch 2/20\n",
            "62/62 [==============================] - 17s 279ms/step - loss: 0.5512 - accuracy: 0.7505 - val_loss: 0.5807 - val_accuracy: 0.7349\n",
            "Epoch 3/20\n",
            "62/62 [==============================] - 17s 280ms/step - loss: 0.5478 - accuracy: 0.7591 - val_loss: 0.5638 - val_accuracy: 0.7611\n",
            "Epoch 4/20\n",
            "62/62 [==============================] - 17s 282ms/step - loss: 0.5611 - accuracy: 0.7515 - val_loss: 0.5577 - val_accuracy: 0.7480\n",
            "Epoch 5/20\n",
            "62/62 [==============================] - 18s 283ms/step - loss: 0.5421 - accuracy: 0.7576 - val_loss: 0.6017 - val_accuracy: 0.7349\n",
            "Epoch 6/20\n",
            "62/62 [==============================] - 17s 280ms/step - loss: 0.5416 - accuracy: 0.7658 - val_loss: 0.6269 - val_accuracy: 0.7147\n",
            "Epoch 7/20\n",
            "62/62 [==============================] - 17s 279ms/step - loss: 0.5513 - accuracy: 0.7597 - val_loss: 0.6458 - val_accuracy: 0.7067\n",
            "Epoch 8/20\n",
            "62/62 [==============================] - 17s 278ms/step - loss: 0.5461 - accuracy: 0.7586 - val_loss: 0.5595 - val_accuracy: 0.7480\n",
            "Epoch 9/20\n",
            "62/62 [==============================] - 17s 280ms/step - loss: 0.5429 - accuracy: 0.7581 - val_loss: 0.5485 - val_accuracy: 0.7601\n",
            "Epoch 10/20\n",
            "62/62 [==============================] - 17s 278ms/step - loss: 0.5327 - accuracy: 0.7688 - val_loss: 0.6581 - val_accuracy: 0.7067\n",
            "Epoch 11/20\n",
            "62/62 [==============================] - 17s 278ms/step - loss: 0.5457 - accuracy: 0.7566 - val_loss: 0.6011 - val_accuracy: 0.7288\n",
            "Epoch 12/20\n",
            "62/62 [==============================] - 17s 279ms/step - loss: 0.5379 - accuracy: 0.7678 - val_loss: 0.7414 - val_accuracy: 0.6734\n",
            "Epoch 13/20\n",
            "62/62 [==============================] - 17s 281ms/step - loss: 0.5364 - accuracy: 0.7632 - val_loss: 0.6181 - val_accuracy: 0.7298\n",
            "Epoch 14/20\n",
            "62/62 [==============================] - 17s 278ms/step - loss: 0.5244 - accuracy: 0.7673 - val_loss: 0.5669 - val_accuracy: 0.7520\n",
            "Epoch 15/20\n",
            "62/62 [==============================] - 17s 279ms/step - loss: 0.5290 - accuracy: 0.7764 - val_loss: 0.5609 - val_accuracy: 0.7490\n",
            "Epoch 16/20\n",
            "62/62 [==============================] - 17s 280ms/step - loss: 0.5240 - accuracy: 0.7668 - val_loss: 0.6010 - val_accuracy: 0.7419\n",
            "Epoch 17/20\n",
            "62/62 [==============================] - 17s 279ms/step - loss: 0.5274 - accuracy: 0.7642 - val_loss: 0.6280 - val_accuracy: 0.7258\n",
            "Epoch 18/20\n",
            "62/62 [==============================] - 18s 282ms/step - loss: 0.5181 - accuracy: 0.7790 - val_loss: 0.7901 - val_accuracy: 0.6694\n",
            "Epoch 19/20\n",
            "62/62 [==============================] - 17s 278ms/step - loss: 0.5290 - accuracy: 0.7698 - val_loss: 0.5864 - val_accuracy: 0.7419\n",
            "Epoch 20/20\n",
            "62/62 [==============================] - 17s 279ms/step - loss: 0.5305 - accuracy: 0.7617 - val_loss: 0.5509 - val_accuracy: 0.7520\n"
          ],
          "name": "stdout"
        },
        {
          "output_type": "execute_result",
          "data": {
            "text/plain": [
              "<tensorflow.python.keras.callbacks.History at 0x7fa1b751def0>"
            ]
          },
          "metadata": {
            "tags": []
          },
          "execution_count": 55
        }
      ]
    },
    {
      "cell_type": "markdown",
      "metadata": {
        "id": "xQz3cdwwRri2",
        "colab_type": "text"
      },
      "source": [
        ""
      ]
    }
  ]
}